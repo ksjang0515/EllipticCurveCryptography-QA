{
 "cells": [
  {
   "cell_type": "code",
   "execution_count": 1,
   "metadata": {},
   "outputs": [
    {
     "name": "stdout",
     "output_type": "stream",
     "text": [
      "QPU Advantage_system4.1 was selected.\n"
     ]
    }
   ],
   "source": [
    "from dwave.system import DWaveSampler, EmbeddingComposite\n",
    "\n",
    "# Use a D-Wave system as the sampler\n",
    "sampler = DWaveSampler() \n",
    "print(\"QPU {} was selected.\".format(sampler.solver.name))\n",
    "\n",
    "embedding_sampler = EmbeddingComposite(sampler)"
   ]
  },
  {
   "cell_type": "code",
   "execution_count": 32,
   "metadata": {},
   "outputs": [
    {
     "name": "stdout",
     "output_type": "stream",
     "text": [
      "Best solution found: \n",
      " Sample(sample={'10': 1, '104': 1, '105': 0, '106': 0, '108': 0, '109': 0, '11': 1, '110': 0, '111': 0, '112': 0, '113': 0, '114': 0, '115': 0, '116': 0, '21': 0, '22': 0, '23': 1, '24': 0, '25': 0, '26': 1, '27': 0, '28': 1, '29': 1, '31': 0, '32': 0, '33': 0, '34': 0, '35': 0, '36': 1, '37': 1, '38': 0, '39': 0, '41': 0, '42': 1, '43': 1, '44': 1, '45': 1, '46': 1, '53': 0, '54': 0, '55': 0, '57': 1, '58': 1, '59': 1, '6': 0, '60': 1, '61': 1, '62': 0, '63': 0, '64': 0, '65': 0, '7': 0, '72': 1, '73': 1, '74': 0, '75': 1, '76': 1, '77': 0, '78': 0, '79': 0, '8': 0, '80': 1, '82': 1, '83': 1, '84': 0, '85': 1, '86': 1, '87': 0, '88': 1, '89': 0, '9': 1, '90': 0, '92': 0, '93': 1, '94': 0, '95': 1, '96': 0, '97': 0}, energy=2.0, num_occurrences=1, chain_break_fraction=0.0)\n"
     ]
    }
   ],
   "source": [
    "solution = embedding_sampler.sample(ecc.bqm, num_reads=1000, label='div_modp')\n",
    "\n",
    "print(\"Best solution found: \\n\",solution.first)"
   ]
  },
  {
   "cell_type": "code",
   "execution_count": 11,
   "metadata": {},
   "outputs": [
    {
     "data": {
      "text/plain": [
       "[0, 1, 0]"
      ]
     },
     "execution_count": 11,
     "metadata": {},
     "output_type": "execute_result"
    }
   ],
   "source": [
    "ecc.extract_variable(solution.first, 'c')"
   ]
  },
  {
   "cell_type": "code",
   "execution_count": 12,
   "metadata": {},
   "outputs": [
    {
     "data": {
      "text/plain": [
       "45"
      ]
     },
     "execution_count": 12,
     "metadata": {},
     "output_type": "execute_result"
    }
   ],
   "source": [
    "len(ecc.bqm.linear)"
   ]
  },
  {
   "cell_type": "code",
   "execution_count": null,
   "metadata": {},
   "outputs": [],
   "source": []
  },
  {
   "cell_type": "code",
   "execution_count": null,
   "metadata": {},
   "outputs": [],
   "source": []
  },
  {
   "cell_type": "code",
   "execution_count": 1,
   "metadata": {},
   "outputs": [],
   "source": [
    "from src.ecc import EccController\n",
    "\n",
    "ecc = EccController(5)\n",
    "a = ecc.create_variable('a', 3)\n",
    "b = ecc.create_variable('b', 3)\n",
    "c = ecc.create_variable('c', 3)"
   ]
  },
  {
   "cell_type": "code",
   "execution_count": 2,
   "metadata": {},
   "outputs": [
    {
     "data": {
      "text/plain": [
       "[6, 7, 8]"
      ]
     },
     "execution_count": 2,
     "metadata": {},
     "output_type": "execute_result"
    }
   ],
   "source": [
    "c"
   ]
  },
  {
   "cell_type": "code",
   "execution_count": 3,
   "metadata": {},
   "outputs": [],
   "source": [
    "ecc.mult_modp(a, b, c)"
   ]
  },
  {
   "cell_type": "code",
   "execution_count": 4,
   "metadata": {},
   "outputs": [
    {
     "data": {
      "text/plain": [
       "[6, 7, 8]"
      ]
     },
     "execution_count": 4,
     "metadata": {},
     "output_type": "execute_result"
    }
   ],
   "source": [
    "c"
   ]
  },
  {
   "cell_type": "code",
   "execution_count": 3,
   "metadata": {},
   "outputs": [],
   "source": [
    "ecc.set_variable_constant(a, 3)\n",
    "ecc.set_variable_constant(b, 4)"
   ]
  },
  {
   "cell_type": "code",
   "execution_count": 4,
   "metadata": {},
   "outputs": [
    {
     "data": {
      "text/plain": [
       "78"
      ]
     },
     "execution_count": 4,
     "metadata": {},
     "output_type": "execute_result"
    }
   ],
   "source": [
    "len(ecc.bqm.linear)"
   ]
  },
  {
   "cell_type": "code",
   "execution_count": 3,
   "metadata": {},
   "outputs": [
    {
     "name": "stdout",
     "output_type": "stream",
     "text": [
      "4\n",
      "2\n"
     ]
    }
   ],
   "source": [
    "a = 3\n",
    "b = 4\n",
    "b_inv = pow(b, -1, 5)\n",
    "print(b_inv)\n",
    "\n",
    "print((a*b_inv)%5)"
   ]
  },
  {
   "cell_type": "code",
   "execution_count": 5,
   "metadata": {},
   "outputs": [
    {
     "data": {
      "text/plain": [
       "45"
      ]
     },
     "execution_count": 5,
     "metadata": {},
     "output_type": "execute_result"
    }
   ],
   "source": [
    "len(ecc.bqm.linear)"
   ]
  },
  {
   "cell_type": "code",
   "execution_count": null,
   "metadata": {},
   "outputs": [],
   "source": []
  },
  {
   "cell_type": "code",
   "execution_count": null,
   "metadata": {},
   "outputs": [],
   "source": []
  },
  {
   "cell_type": "code",
   "execution_count": null,
   "metadata": {},
   "outputs": [],
   "source": []
  },
  {
   "cell_type": "code",
   "execution_count": 9,
   "metadata": {},
   "outputs": [],
   "source": [
    "n = 3"
   ]
  },
  {
   "cell_type": "code",
   "execution_count": 10,
   "metadata": {},
   "outputs": [],
   "source": [
    "a = 3\n",
    "b = 5\n",
    "p = 7\n",
    "\n",
    "b_inv = pow(b, -1, p)"
   ]
  },
  {
   "cell_type": "code",
   "execution_count": 12,
   "metadata": {},
   "outputs": [
    {
     "data": {
      "text/plain": [
       "2"
      ]
     },
     "execution_count": 12,
     "metadata": {},
     "output_type": "execute_result"
    }
   ],
   "source": [
    "(a*b_inv) %p"
   ]
  },
  {
   "cell_type": "code",
   "execution_count": 13,
   "metadata": {},
   "outputs": [
    {
     "data": {
      "text/plain": [
       "3"
      ]
     },
     "execution_count": 13,
     "metadata": {},
     "output_type": "execute_result"
    }
   ],
   "source": [
    "(b*2)%p "
   ]
  }
 ],
 "metadata": {
  "kernelspec": {
   "display_name": "Python 3.10.1 ('EllipticCurveCryptography_QA': venv)",
   "language": "python",
   "name": "python3"
  },
  "language_info": {
   "codemirror_mode": {
    "name": "ipython",
    "version": 3
   },
   "file_extension": ".py",
   "mimetype": "text/x-python",
   "name": "python",
   "nbconvert_exporter": "python",
   "pygments_lexer": "ipython3",
   "version": "3.10.1"
  },
  "orig_nbformat": 4,
  "vscode": {
   "interpreter": {
    "hash": "5d9fb4af9f155bf97732272527c30b5ecf194f8b361b2d3fd811fe9eb5595670"
   }
  }
 },
 "nbformat": 4,
 "nbformat_minor": 2
}
